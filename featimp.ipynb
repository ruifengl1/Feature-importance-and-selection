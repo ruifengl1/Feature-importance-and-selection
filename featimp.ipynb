{
 "cells": [
  {
   "cell_type": "markdown",
   "id": "480354fc-b3a3-4004-ae82-8377196c2ede",
   "metadata": {},
   "source": [
    "# Feature importance and selection"
   ]
  },
  {
   "cell_type": "code",
   "execution_count": 1,
   "id": "dedea33d-17f3-4376-8b6d-d1f5a67ada71",
   "metadata": {},
   "outputs": [],
   "source": [
    "import numpy as np\n",
    "import pandas as pd\n",
    "from sklearn.datasets import load_boston\n",
    "from featimp import *\n",
    "\n",
    "import warnings\n",
    "warnings.filterwarnings(\"ignore\")\n",
    "\n",
    "%run featimp"
   ]
  },
  {
   "cell_type": "markdown",
   "id": "f44f5b08-6049-4c48-8a18-744d40019705",
   "metadata": {},
   "source": [
    "The document contains information about exloration of feature importance algorithms and how to select features in a model. More specifically this document will include the following:\n",
    "\n",
    "* What is feature importance?\n",
    "* Why feature importance is useful?\n",
    "* Spearman's rank correlation coefficient\n",
    "* Principle Component Analysis (PCA)\n",
    "* Model-based feature importance\n",
    "    * Drop column importance\n",
    "    * Permutation importance\n",
    "* Comparing Strategies\n",
    "* Conclusions"
   ]
  },
  {
   "cell_type": "markdown",
   "id": "d9ac7e7c-38c7-4840-84dd-746809b3433c",
   "metadata": {},
   "source": [
    "## What is feature importance? "
   ]
  },
  {
   "cell_type": "markdown",
   "id": "7c72db79-7c03-470b-a6ad-f16bac87463a",
   "metadata": {},
   "source": [
    "With help of packages and tools availble, we are able to build a machine learning model easily. But building good and efficient machine learning model is more than packages and tools.\n",
    "In the process of building a good model, we must select appropriate features. Useless features results in bias that lower the model's performance. \n",
    "\n",
    "Feature Importance is techiniques that compute a score that measures the importance of the input features. A higher score means that the specific feature will have a larger effect on the model that is being used to predict a certain variable."
   ]
  },
  {
   "cell_type": "markdown",
   "id": "adcb2135-0127-41e8-b1d4-948a79f8c980",
   "metadata": {},
   "source": [
    "## Why feature importance is useful? "
   ]
  },
  {
   "cell_type": "markdown",
   "id": "62a8b1be-7a55-499d-bd77-66b90ca3f2cb",
   "metadata": {},
   "source": [
    "1. Feature importance enable us to understand the relationship between the features and the target variable. And it helps us understand what features are irrelevant for the model.\n",
    "2. Measuring features' performance with score, we are able to reduce the model complexity and speeds up training process, ultimately improving the performance of the model.\n",
    "3. Feature Importance is also used for interpreting and communicating your model to other stakeholders. Comparing scores of different features, we are able to determine which features are the most predictive to the model."
   ]
  },
  {
   "cell_type": "markdown",
   "id": "e7544488-12be-4f48-94ab-23b0cd0a78f6",
   "metadata": {},
   "source": [
    "## Spearman's rank correlation coefficient"
   ]
  },
  {
   "cell_type": "markdown",
   "id": "be0ffa55-849c-436e-9641-eb6eeb387c7a",
   "metadata": {},
   "source": [
    "1. The Spearman rank correlation coefficient is the simpliest technique to identify important regression features. It is a more general monotonic metric used to quantify the relationship between each feature and the response.\n",
    "3. The feature with the largest coefficient is taken to be the most important. \n",
    "4. This method is measuring single-feature relevance importance and works well for independent features\n",
    "\n",
    "However, \n",
    "1. The method suffers in the presence of codependent features. Groups of features with similar relationships to the response variable receive the same or similar ranks, even though just one should be considered important."
   ]
  },
  {
   "cell_type": "markdown",
   "id": "a2eba66f-a5c4-45f3-8bbd-4cb336c3db19",
   "metadata": {},
   "source": [
    "In this document, we are going to focus on the dataset 'load_boston' from UCI"
   ]
  },
  {
   "cell_type": "code",
   "execution_count": 2,
   "id": "7af32fd8-fb11-4e78-978c-3e5b799f6dec",
   "metadata": {},
   "outputs": [],
   "source": [
    "boston = load_boston()\n",
    "X = pd.DataFrame(boston.data, columns=boston.feature_names)\n",
    "y = boston.target"
   ]
  },
  {
   "cell_type": "code",
   "execution_count": 3,
   "id": "2af062bb-f3df-49b6-b4c2-c8e833860cac",
   "metadata": {},
   "outputs": [],
   "source": [
    "spear_imp = spearCorr(X, y)"
   ]
  },
  {
   "cell_type": "markdown",
   "id": "788f9fbe-f5da-45b9-bbff-83cfab47a877",
   "metadata": {},
   "source": [
    "By ranking the feature based on the spearman's rank correlation coefficient, we have the following plot."
   ]
  },
  {
   "cell_type": "code",
   "execution_count": 4,
   "id": "96597f7d-45fa-4b29-965e-b90a3bd9f4f8",
   "metadata": {},
   "outputs": [
    {
     "data": {
      "image/png": "[encoded data removed]",
      "text/plain": [
       "<Figure size 432x288 with 1 Axes>"
      ]
     },
     "metadata": {
      "needs_background": "light"
     },
     "output_type": "display_data"
    }
   ],
   "source": [
    "plt.barh(spear_imp.index.values[::-1], spear_imp['correlation'][::-1])\n",
    "plt.title('Spearman\\'s rank correlation coefficient feature importance')\n",
    "plt.ylabel('feature')\n",
    "plt.xlabel('Importance')\n",
    "plt.show()"
   ]
  },
  {
   "cell_type": "markdown",
   "id": "9a01aca3-7f75-415e-b662-5af5667f10dd",
   "metadata": {},
   "source": [
    "## Principle Component Analysis (PCA)"
   ]
  },
  {
   "cell_type": "markdown",
   "id": "c1ec9b78-1ebc-4ee1-a018-c420779c755c",
   "metadata": {},
   "source": [
    "PCA commonly used for reducing the dimensionality of data while preserving most of the variance among the data points.  \n",
    "It identifies features that explain the most variance in the new space. This transformation is defined in such a way that the first principal component has the largest possible variance and each succeeding component, in turn, has the highest possible variance possible. If the first principal component covers a large percentage of the variance, the 'loads' in the original space that corresponding to the component can indicate importance of features."
   ]
  },
  {
   "cell_type": "markdown",
   "id": "6f1e7c6e-0613-49eb-b87e-19d618b5f197",
   "metadata": {},
   "source": [
    "**Advantages:**\n",
    "- It helps to get rid of correlated features. After implementing the PCA on your dataset, all the Principal Components are independent of one another. There is no correlation among them.\n",
    "- By removing correlated variables that don't have predictive power, it improves training time of algorithm with less number of features and also prevent overfitting by reducing number of features.\n",
    "\n",
    "**Disadvantage:**\n",
    "- Although pricipal components covers most of variance among the features, it may miss some information as compared to the original list of features."
   ]
  },
  {
   "cell_type": "markdown",
   "id": "5c83cdba-9b2d-4e9c-a921-0957ac453c9b",
   "metadata": {},
   "source": [
    "As we see below, the first principal component (PC1) explains the most variance in the original dataset, this means that features that correlate with PC1 contribute to a large amount of variance in the data.\n",
    "\n",
    "Since PC1 covers large ratio of variance, its corresponding features would be important."
   ]
  },
  {
   "cell_type": "code",
   "execution_count": 5,
   "id": "3c15efc0-4e51-46eb-ab2d-023a4dc044ad",
   "metadata": {},
   "outputs": [
    {
     "data": {
      "text/html": [
       "<div>\n",
       "<style scoped>\n",
       "    .dataframe tbody tr th:only-of-type {\n",
       "        vertical-align: middle;\n",
       "    }\n",
       "\n",
       "    .dataframe tbody tr th {\n",
       "        vertical-align: top;\n",
       "    }\n",
       "\n",
       "    .dataframe thead th {\n",
       "        text-align: right;\n",
       "    }\n",
       "</style>\n",
       "<table border=\"1\" class=\"dataframe\">\n",
       "  <thead>\n",
       "    <tr style=\"text-align: right;\">\n",
       "      <th></th>\n",
       "      <th>PC1</th>\n",
       "      <th>PC2</th>\n",
       "      <th>PC3</th>\n",
       "      <th>PC4</th>\n",
       "      <th>PC5</th>\n",
       "      <th>PC6</th>\n",
       "      <th>PC7</th>\n",
       "      <th>PC8</th>\n",
       "      <th>PC9</th>\n",
       "    </tr>\n",
       "  </thead>\n",
       "  <tbody>\n",
       "    <tr>\n",
       "      <th>explained_variance_ratio_</th>\n",
       "      <td>0.471296</td>\n",
       "      <td>0.110252</td>\n",
       "      <td>0.095586</td>\n",
       "      <td>0.065967</td>\n",
       "      <td>0.064217</td>\n",
       "      <td>0.05057</td>\n",
       "      <td>0.041181</td>\n",
       "      <td>0.030469</td>\n",
       "      <td>0.021303</td>\n",
       "    </tr>\n",
       "  </tbody>\n",
       "</table>\n",
       "</div>"
      ],
      "text/plain": [
       "                                PC1       PC2       PC3       PC4       PC5  \\\n",
       "explained_variance_ratio_  0.471296  0.110252  0.095586  0.065967  0.064217   \n",
       "\n",
       "                               PC6       PC7       PC8       PC9  \n",
       "explained_variance_ratio_  0.05057  0.041181  0.030469  0.021303  "
      ]
     },
     "execution_count": 5,
     "metadata": {},
     "output_type": "execute_result"
    }
   ],
   "source": [
    "pca_comp_df, pca_ratio_df, pca_fea_importance_df = pca_imp(X, y)\n",
    "pca_ratio_df"
   ]
  },
  {
   "cell_type": "code",
   "execution_count": 6,
   "id": "37a7f38a-68c2-45ad-812e-f65895c5416d",
   "metadata": {},
   "outputs": [
    {
     "data": {
      "image/png": "[encoded data removed]",
      "text/plain": [
       "<Figure size 432x288 with 1 Axes>"
      ]
     },
     "metadata": {
      "needs_background": "light"
     },
     "output_type": "display_data"
    }
   ],
   "source": [
    "plt.barh(pca_fea_importance_df.index.values[::-1], pca_fea_importance_df['scores'][::-1])\n",
    "plt.title('PCA feature importance')\n",
    "plt.ylabel('feature')\n",
    "plt.xlabel('Importance')\n",
    "plt.show()"
   ]
  },
  {
   "cell_type": "markdown",
   "id": "12235f5e-b9ee-4376-be81-a70a089e91d1",
   "metadata": {},
   "source": [
    "\n",
    "Also fro the heatmap, we can find the feature 'CHAS' in the PC1 are the least importance compared to others"
   ]
  },
  {
   "cell_type": "code",
   "execution_count": 7,
   "id": "d5d0b417-5749-41b3-b110-7df9582789dc",
   "metadata": {},
   "outputs": [
    {
     "data": {
      "image/png": "[encoded data removed]",
      "text/plain": [
       "<Figure size 540x360 with 2 Axes>"
      ]
     },
     "metadata": {
      "needs_background": "light"
     },
     "output_type": "display_data"
    }
   ],
   "source": [
    "pca_heatmap(pca_comp_df)"
   ]
  },
  {
   "cell_type": "markdown",
   "id": "de3d3e27-93a1-45f1-977c-eab6d0b3fdf9",
   "metadata": {},
   "source": [
    "## Model-based feature importance"
   ]
  },
  {
   "cell_type": "markdown",
   "id": "ba2fbaa8-70fe-495f-a476-2480f12575c1",
   "metadata": {},
   "source": [
    "We will explore the two Permutation importance and Drop column importance in this document.\n"
   ]
  },
  {
   "cell_type": "markdown",
   "id": "16d26e2e-2976-4e09-b885-ae655acfa4c0",
   "metadata": {},
   "source": [
    "### Drop column importance"
   ]
  },
  {
   "cell_type": "markdown",
   "id": "24dc39db-25bc-450b-8a8e-38fd4e54963a",
   "metadata": {},
   "source": [
    "It is brute force mechanism to examine importance of any feature or combination of features in the dataset. \n",
    "\n",
    "The steps are generalized below:\n",
    "1. Compute validation metric for model trained on all features a baseline performance score\n",
    "2. Drop a column from training set\n",
    "3. Retrain the model\n",
    "4. Recompute the validation metric set (performance score)\n",
    "5. The importance value of a feature is the difference between the baseline and the score from the model missing that feature.\n",
    "\n",
    "This strategy answers the question of how loss of a feature affects overall model performance."
   ]
  },
  {
   "cell_type": "markdown",
   "id": "e7766526-4705-4740-a239-9c4fff631522",
   "metadata": {},
   "source": [
    "We are going to implement the algorithm below and list important features in descending order."
   ]
  },
  {
   "cell_type": "code",
   "execution_count": 8,
   "id": "a0ffdd36-e473-4cbc-ab08-f0685a302e2f",
   "metadata": {},
   "outputs": [],
   "source": [
    "drop_col_imp = drop_col_importances(X, y)"
   ]
  },
  {
   "cell_type": "markdown",
   "id": "da55eede-0fd9-4d73-b2bd-2ebb2bdcc79a",
   "metadata": {},
   "source": [
    "From the bar plot below, it indicates that 'LSTAT' are the most predictive feature, followed by 'RM', 'DIS' and 'NOX' and so on.  "
   ]
  },
  {
   "cell_type": "code",
   "execution_count": 9,
   "id": "a18a1edf-6897-47f7-a4c5-880d3335a469",
   "metadata": {},
   "outputs": [
    {
     "data": {
      "image/png": "[encoded data removed]",
      "text/plain": [
       "<Figure size 432x288 with 1 Axes>"
      ]
     },
     "metadata": {
      "needs_background": "light"
     },
     "output_type": "display_data"
    }
   ],
   "source": [
    "plt.barh(drop_col_imp.index.values[::-1], drop_col_imp.values.flatten()[::-1])\n",
    "plt.title('Drop column importance')\n",
    "plt.ylabel('feature')\n",
    "plt.xlabel('Importance')\n",
    "plt.show()"
   ]
  },
  {
   "cell_type": "markdown",
   "id": "f6a8d765-ddff-4b5f-a8cf-4a1fe5129110",
   "metadata": {},
   "source": [
    "**Advantage:**\n",
    "- It is simple to understand and implement, very direct means of measuring feature importance. \n",
    "- It works for any machine learning model.\n",
    "\n",
    "**Disvantage:**\n",
    "- If there are p features, we will retrain the model p time. That is very expensive\n",
    "- Codependent features often result in 0 or very low importance\n"
   ]
  },
  {
   "cell_type": "markdown",
   "id": "f93f94c8-fc5f-4aed-8ab0-cbb6fda416b1",
   "metadata": {},
   "source": [
    "### Permutation importance"
   ]
  },
  {
   "cell_type": "markdown",
   "id": "eb0d1db6-b06b-486d-8822-343b19d7cae1",
   "metadata": {},
   "source": [
    "Compared to Drop column importance, Permutation importance does not require to retrain model for every feature. \n",
    "\n",
    "The steps are generalized below:\n",
    "1. Compute validation metric for model trained on all features a baseline performance score.\n",
    "2. Permute the column values of a single predictor feature.\n",
    "3. Pass all test samples back through the Random Forest and recompute validation metric set.\n",
    "4. The importance of that feature is the difference between the baseline and the drop in overall metric caused by permuting the column."
   ]
  },
  {
   "cell_type": "markdown",
   "id": "b511cef9-efff-4c90-9d0e-e1fe990bb9d7",
   "metadata": {},
   "source": [
    "We are going to implement the algorithm below and list important features in descending order."
   ]
  },
  {
   "cell_type": "markdown",
   "id": "b9a45fcb-c739-4eb6-b42f-3e39a3c7582c",
   "metadata": {},
   "source": [
    "From the bar plot below, the first two features 'RM' and 'LSTAT' are the most predictive features compared to others. The first two features matched to the ones in the drop column importance."
   ]
  },
  {
   "cell_type": "code",
   "execution_count": 10,
   "id": "91c14e70-f9df-4c38-9b5e-9f81a66ce845",
   "metadata": {},
   "outputs": [],
   "source": [
    "permute_imp = permute_importances(X, y)"
   ]
  },
  {
   "cell_type": "code",
   "execution_count": 11,
   "id": "e0ec8628-ae59-469f-820a-c91305be1d2a",
   "metadata": {},
   "outputs": [
    {
     "data": {
      "image/png": "[encoded data removed]",
      "text/plain": [
       "<Figure size 432x288 with 1 Axes>"
      ]
     },
     "metadata": {
      "needs_background": "light"
     },
     "output_type": "display_data"
    }
   ],
   "source": [
    "plt.barh(permute_imp.index.values[::-1], permute_imp.values.flatten()[::-1])\n",
    "plt.title('Permute importance')\n",
    "plt.ylabel('feature')\n",
    "plt.xlabel('Importance')\n",
    "plt.show()"
   ]
  },
  {
   "cell_type": "markdown",
   "id": "8c9464cc-9463-4f32-acf7-fc5a40f07823",
   "metadata": {},
   "source": [
    "**Advantage:**\n",
    "- It is simple to understand and implement, very direct means of measuring feature importance. \n",
    "- It works for any machine learning model.\n",
    "- It does not require to retrain the model so much compared to drop column importance\n",
    "\n",
    "**Disvantage:**\n",
    "- It can create nonsensical records through permutation, such as pregnant male, which makes the results suspect\n",
    "- Codependent features often share similar feature importance. "
   ]
  },
  {
   "cell_type": "markdown",
   "id": "85275c27-18db-401a-a09d-32f0a957c01e",
   "metadata": {},
   "source": [
    "## Comparing Strategies"
   ]
  },
  {
   "cell_type": "markdown",
   "id": "5f006a07-5e58-4eaf-af42-5f7e6ea4032c",
   "metadata": {},
   "source": [
    "With strategies mentioned above, it is still diffcult to decide which features are most important and how we select the top k features to fit model. One way is to compare the model performance with recommended features. We firstly train a model given a feature ranking and compare its performance metric. \n"
   ]
  },
  {
   "cell_type": "markdown",
   "id": "0807f40b-916f-4bb8-9cbe-04937ac3a669",
   "metadata": {},
   "source": [
    "Below is feature importance computed by shap using xgboost"
   ]
  },
  {
   "cell_type": "code",
   "execution_count": 12,
   "id": "a8e49073-5ae6-449d-9f8a-a9a2ec2ecae3",
   "metadata": {},
   "outputs": [],
   "source": [
    "shap_values, shap_imp = shap_importances(X, y)"
   ]
  },
  {
   "cell_type": "code",
   "execution_count": 13,
   "id": "9d80bf37-10b7-482e-8bf5-93e9924bb8bf",
   "metadata": {},
   "outputs": [
    {
     "data": {
      "image/png": "[encoded data removed]",
      "text/plain": [
       "<Figure size 576x468 with 1 Axes>"
      ]
     },
     "metadata": {},
     "output_type": "display_data"
    }
   ],
   "source": [
    "# visualize the first prediction's explanation\n",
    "shap.plots.bar(shap_values)"
   ]
  },
  {
   "cell_type": "markdown",
   "id": "a6604565-3131-46af-a759-6eb0ad877d84",
   "metadata": {},
   "source": [
    "Here we are going to input ordered features recommended by shap, spearman rank correlation coefficient, permute and drop column importance into the random forest model, and evaluate the performance based on MSE."
   ]
  },
  {
   "cell_type": "code",
   "execution_count": 14,
   "id": "1eb29952-cf55-4b0e-be1a-715ccca4e5d1",
   "metadata": {},
   "outputs": [],
   "source": [
    "# compute MSE\n",
    "shap_mse = validation_test(shap_imp.index.values, X, y)\n",
    "spear_mse= validation_test(spear_imp.index.values, X, y)\n",
    "permute_mse = validation_test(permute_imp.index.values, X, y)\n",
    "drop_col_mse = validation_test(drop_col_imp.index.values, X, y)"
   ]
  },
  {
   "cell_type": "code",
   "execution_count": 15,
   "id": "b3aaffb2-ae78-42b5-b02e-dd14da6e1ed9",
   "metadata": {},
   "outputs": [
    {
     "data": {
      "image/png": "[encoded data removed]",
      "text/plain": [
       "<Figure size 720x576 with 1 Axes>"
      ]
     },
     "metadata": {
      "needs_background": "light"
     },
     "output_type": "display_data"
    }
   ],
   "source": [
    "# plot MSE\n",
    "x_idx = [i+1 for i in range(len(X.columns))]\n",
    "plt.figure(figsize=(10,8))\n",
    "\n",
    "plt.plot(x_idx, shap_mse, label='SHAP', color=\"r\", linewidth=1, marker='o')\n",
    "plt.plot(x_idx, spear_mse, label='Spearman', color=\"#4CAF50\", linewidth=1, marker='v')\n",
    "plt.plot(x_idx, permute_mse, label='Permutation', color=\"blue\", linewidth=1, marker='s')\n",
    "plt.plot(x_idx, drop_col_mse, label='Drop Column', color=\"black\", linewidth=1, marker='*')\n",
    "plt.xlabel('Top k most important features')\n",
    "plt.ylabel('3-fold CV MSE')\n",
    "plt.legend()\n",
    "plt.show()"
   ]
  },
  {
   "cell_type": "markdown",
   "id": "1acdea7e-d9b9-4876-bb63-22970f4dba30",
   "metadata": {},
   "source": [
    "As these feature importance algorithms give us the silimar feature ranking at the beginning, all the plot lines ovelapped for the first two important features. After that, they have different feature importance."
   ]
  },
  {
   "cell_type": "markdown",
   "id": "8416b44f-b587-4382-8889-d58b168a460d",
   "metadata": {},
   "source": [
    "## Automatic feature selection algorithm"
   ]
  },
  {
   "cell_type": "markdown",
   "id": "aad22376-98ae-4573-9fda-be80493cd7f8",
   "metadata": {},
   "source": [
    "Given ordered features from the most to least important, we need to select top k features that contribute in the decision making and drop off those unimportant features. This can be achieved by implementing an automated mechanism that selects the top k features based on the validation error. \n",
    "\n",
    "Basic steps are generalized below:\n",
    "1. Compute validation metric for model trained on all features a baseline performance score\n",
    "2. Get the feature importances.\n",
    "3. Dropped the lowest importance feature\n",
    "4. Retrain the model\n",
    "5. Re-computing the validation metric. \n",
    "6. If the validation metric is worse, then we have dropped too many features.\n",
    "7. Get the feature importances again."
   ]
  },
  {
   "cell_type": "markdown",
   "id": "a34af935-c3a9-46a3-a9ec-6c0db2e032d2",
   "metadata": {},
   "source": [
    "We are going to implement the algorithm above using shap feature importance, xgboost and 3-fold cross validation."
   ]
  },
  {
   "cell_type": "code",
   "execution_count": 19,
   "id": "2abaaead-8266-4679-969e-6d4cd1fbd804",
   "metadata": {},
   "outputs": [
    {
     "name": "stdout",
     "output_type": "stream",
     "text": [
      "Previous feature MSE: 11.945\n",
      "Drop the least important feature: CHAS\n",
      "Re-compute MSE: 11.907\n",
      "Previous feature MSE: 11.907\n",
      "Drop the least important feature: ZN\n",
      "Re-compute MSE: 11.701\n",
      "Previous feature MSE: 11.701\n",
      "Drop the least important feature: RAD\n",
      "Re-compute MSE: 12.011\n"
     ]
    }
   ],
   "source": [
    "feature_selected = auto_selection(shap_imp.index.values, X, y)"
   ]
  },
  {
   "cell_type": "code",
   "execution_count": 20,
   "id": "23fd0c4f-f181-4bda-bee0-a7d17808c3d1",
   "metadata": {},
   "outputs": [
    {
     "data": {
      "text/plain": [
       "['CRIM',\n",
       " 'INDUS',\n",
       " 'NOX',\n",
       " 'RM',\n",
       " 'AGE',\n",
       " 'DIS',\n",
       " 'TAX',\n",
       " 'PTRATIO',\n",
       " 'B',\n",
       " 'LSTAT',\n",
       " 'RAD']"
      ]
     },
     "execution_count": 20,
     "metadata": {},
     "output_type": "execute_result"
    }
   ],
   "source": [
    "feature_selected"
   ]
  },
  {
   "cell_type": "markdown",
   "id": "2591fa75-c470-4c8e-98ac-63cfd1fb4866",
   "metadata": {},
   "source": [
    "From the output above, it suggests that both features 'CHAS' and 'ZN' are the least important. If we drop these two features, MSE decreases."
   ]
  },
  {
   "cell_type": "markdown",
   "id": "f980bad4-9df3-4db1-a212-a841b1766602",
   "metadata": {},
   "source": [
    "## Conclusions"
   ]
  },
  {
   "cell_type": "markdown",
   "id": "d45e5dda-2697-4641-a4e0-fbff0ad7fb94",
   "metadata": {},
   "source": [
    "1. PCA algorithm help remove correlated features to reduce model complexity and improve performance. \n",
    "2. Any model works for the drop column and permutation importance.\n",
    "3. Even though different feature importance algorithms have a different ranking, they may have the same important features."
   ]
  }
 ],
 "metadata": {
  "kernelspec": {
   "display_name": "base",
   "language": "python",
   "name": "base"
  },
  "language_info": {
   "codemirror_mode": {
    "name": "ipython",
    "version": 3
   },
   "file_extension": ".py",
   "mimetype": "text/x-python",
   "name": "python",
   "nbconvert_exporter": "python",
   "pygments_lexer": "ipython3",
   "version": "3.8.8"
  }
 },
 "nbformat": 4,
 "nbformat_minor": 5
}
